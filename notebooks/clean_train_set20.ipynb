{
 "metadata": {
  "language_info": {
   "codemirror_mode": {
    "name": "ipython",
    "version": 3
   },
   "file_extension": ".py",
   "mimetype": "text/x-python",
   "name": "python",
   "nbconvert_exporter": "python",
   "pygments_lexer": "ipython3",
   "version": "3.6.9-final"
  },
  "orig_nbformat": 2,
  "kernelspec": {
   "name": "python36964bit0a42446d5daf47b1a11277f27a4482e4",
   "display_name": "Python 3.6.9 64-bit",
   "language": "python"
  }
 },
 "nbformat": 4,
 "nbformat_minor": 2,
 "cells": [
  {
   "cell_type": "code",
   "execution_count": 2,
   "metadata": {},
   "outputs": [],
   "source": [
    "import os\n",
    "os.chdir('../src')"
   ]
  },
  {
   "cell_type": "code",
   "execution_count": 3,
   "metadata": {},
   "outputs": [],
   "source": [
    "import glob, cv2\n",
    "from tqdm import tqdm\n",
    "\n",
    "import numpy as np\n",
    "import pandas as pd\n",
    "\n",
    "import sys, os, time, logging, datetime, random\n",
    "from pathlib import Path\n",
    "\n",
    "import torch\n",
    "import torch.nn.functional as F\n",
    "import pytorch_lightning as pl\n",
    "from pytorch_lightning.callbacks import ModelCheckpoint\n",
    "from torch.utils.data import DataLoader, Dataset\n",
    "from torch.utils.data.sampler import SequentialSampler, RandomSampler\n",
    "\n",
    "from config import _C as cfg\n",
    "from models.create_model import CustomNet\n",
    "\n",
    "from data_builder import build_valid_loader, build_train_loader\n",
    "from data_builder.transforms import get_valid_transform, get_test_transform\n",
    "from models.optimizer import make_optimizer\n",
    "from models.scheduler import make_scheduler\n",
    "from models.create_model import CustomNet\n",
    "\n",
    "#TODO: provare ad usare questo\n",
    "from models.loss import BiTemperedLogisticLoss\n",
    "\n",
    "from pytorch_lightning.callbacks import ModelCheckpoint"
   ]
  },
  {
   "cell_type": "code",
   "execution_count": 4,
   "metadata": {},
   "outputs": [],
   "source": [
    "df = pd.read_csv(\n",
    "    '/home/giorgio/Scrivania/Kaggle/cassava_leaf/data/train_folds.csv'\n",
    ")"
   ]
  },
  {
   "cell_type": "code",
   "execution_count": 5,
   "metadata": {},
   "outputs": [],
   "source": [
    "class cassavaTest(Dataset):\n",
    "\n",
    "    def __init__(self, df, cfg, transforms=None, preprocessing=None):\n",
    "\n",
    "        self.df = df\n",
    "        self.cfg = cfg\n",
    "        self.transforms = transforms\n",
    "\n",
    "    def __len__(self):\n",
    "        return self.df.shape[0]\n",
    "    \n",
    "    def __getitem__(self, idx:int):\n",
    "        row = self.df.iloc[idx]\n",
    "        img_id = row['image_id']\n",
    "\n",
    "        path_img = img_id\n",
    "\n",
    "        img = cv2.imread(\n",
    "            path_img, cv2.IMREAD_COLOR\n",
    "        )\n",
    "\n",
    "        if self.transforms:\n",
    "            augmented = self.transforms(image=img)\n",
    "            img = augmented['image']\n",
    "        \n",
    "        return img, img_id"
   ]
  },
  {
   "cell_type": "code",
   "execution_count": 6,
   "metadata": {},
   "outputs": [],
   "source": [
    "def load_model(cfg, fold):\n",
    "    checkpoint = torch.load(\n",
    "        f'/home/giorgio/Scrivania/Kaggle/cassava_leaf/experiments/tf_efficientnet_b3_ns/2021-01-15/tf_efficientnet_b3_ns_fld{fold}.ckpt',\n",
    "    )\n",
    "    model = CustomNet(cfg)\n",
    "    model.load_state_dict(checkpoint['model_state_dict'])\n",
    "    model.to(cfg.DEVICE)\n",
    "    model.eval()\n",
    "    del checkpoint\n",
    "    return model"
   ]
  },
  {
   "cell_type": "code",
   "execution_count": 1,
   "metadata": {},
   "outputs": [
    {
     "output_type": "error",
     "ename": "NameError",
     "evalue": "name 'pd' is not defined",
     "traceback": [
      "\u001b[0;31m---------------------------------------------------------------------------\u001b[0m",
      "\u001b[0;31mNameError\u001b[0m                                 Traceback (most recent call last)",
      "\u001b[0;32m<ipython-input-1-94c21eb99741>\u001b[0m in \u001b[0;36m<module>\u001b[0;34m\u001b[0m\n\u001b[0;32m----> 1\u001b[0;31m \u001b[0mdata\u001b[0m \u001b[0;34m=\u001b[0m \u001b[0mpd\u001b[0m\u001b[0;34m.\u001b[0m\u001b[0mDataFrame\u001b[0m\u001b[0;34m(\u001b[0m\u001b[0mcolumns\u001b[0m\u001b[0;34m=\u001b[0m\u001b[0;34m[\u001b[0m\u001b[0;34m'image_id'\u001b[0m\u001b[0;34m,\u001b[0m \u001b[0;34m'pred_c'\u001b[0m\u001b[0;34m,\u001b[0m \u001b[0;34m'pred_p'\u001b[0m\u001b[0;34m]\u001b[0m\u001b[0;34m)\u001b[0m\u001b[0;34m\u001b[0m\u001b[0;34m\u001b[0m\u001b[0m\n\u001b[0m\u001b[1;32m      2\u001b[0m \u001b[0;34m\u001b[0m\u001b[0m\n\u001b[1;32m      3\u001b[0m \u001b[0;32mfor\u001b[0m \u001b[0mfld\u001b[0m \u001b[0;32min\u001b[0m \u001b[0mrange\u001b[0m\u001b[0;34m(\u001b[0m\u001b[0mcfg\u001b[0m\u001b[0;34m.\u001b[0m\u001b[0mDATASET\u001b[0m\u001b[0;34m.\u001b[0m\u001b[0mN_SPLITS\u001b[0m\u001b[0;34m)\u001b[0m\u001b[0;34m:\u001b[0m\u001b[0;34m\u001b[0m\u001b[0;34m\u001b[0m\u001b[0m\n\u001b[1;32m      4\u001b[0m     \u001b[0mprint\u001b[0m\u001b[0;34m(\u001b[0m\u001b[0;34mf'Predictio on fold {fld}'\u001b[0m\u001b[0;34m)\u001b[0m\u001b[0;34m\u001b[0m\u001b[0;34m\u001b[0m\u001b[0m\n\u001b[1;32m      5\u001b[0m     \u001b[0mimg_id\u001b[0m \u001b[0;34m=\u001b[0m \u001b[0mdf\u001b[0m\u001b[0;34m[\u001b[0m\u001b[0mdf\u001b[0m\u001b[0;34m[\u001b[0m\u001b[0;34m'fold'\u001b[0m\u001b[0;34m]\u001b[0m\u001b[0;34m==\u001b[0m\u001b[0mfld\u001b[0m\u001b[0;34m]\u001b[0m\u001b[0;34m[\u001b[0m\u001b[0;34m'image_id'\u001b[0m\u001b[0;34m]\u001b[0m\u001b[0;34m\u001b[0m\u001b[0;34m\u001b[0m\u001b[0m\n",
      "\u001b[0;31mNameError\u001b[0m: name 'pd' is not defined"
     ]
    }
   ],
   "source": [
    "data = pd.DataFrame(columns=['image_id', 'pred_c', 'pred_p'])\n",
    "\n",
    "for fld in range(cfg.DATASET.N_SPLITS):\n",
    "    print(f'Prediction on fold {fld}')\n",
    "    img_id = df[df['fold']==fld]['image_id']\n",
    "\n",
    "    data = cassavaTest(\n",
    "        df[df['fold']==fld], \n",
    "        cfg, \n",
    "        transforms=get_test_transform(cfg)\n",
    "    )\n",
    "\n",
    "    dl = DataLoader(\n",
    "        dataset=data,\n",
    "        sampler=SequentialSampler(data),\n",
    "        drop_last=False,\n",
    "        batch_size=cfg.TRAIN_LOADER.BATCH_SIZE,\n",
    "        num_workers=cfg.TRAIN_LOADER.NUM_WORKERS,\n",
    "        pin_memory=True\n",
    "    )\n",
    "\n",
    "    model = load_model(cfg, fld)\n",
    "\n",
    "    predicted_class = []\n",
    "    predicted_prob = []\n",
    "\n",
    "    test_loader = tqdm(dl, total=len(dl))\n",
    "    for cnt, (imgs, ids) in enumerate(test_loader):\n",
    "\n",
    "        with torch.no_grad():\n",
    "            imgs = imgs.to(cfg.DEVICE)\n",
    "            logits = model(imgs)\n",
    "\n",
    "        preds = F.softmax(logits, -1).detach().cpu().numpy()\n",
    "\n",
    "        pred_c = np.argmax(a=preds, axis=1)\n",
    "        pred_p = np.max(a=preds, axis=1)\n",
    "\n",
    "        predicted_class.append(pred_c)\n",
    "        predicted_prob.append(pred_p)\n",
    "\n",
    "    predicted_class = np.concatenate(predicted_class)\n",
    "    predicted_prob =  np.concatenate(predicted_prob)\n",
    "\n",
    "    dataset = pd.DataFrame()\n",
    "    dataset['pred_c'] = predicted_class\n",
    "    dataset['pred_p'] = predicted_prob\n",
    "    dataset['image_id'] = img_id\n",
    "\n",
    "    data.append(dataset)"
   ]
  },
  {
   "cell_type": "code",
   "execution_count": null,
   "metadata": {},
   "outputs": [],
   "source": []
  }
 ]
}